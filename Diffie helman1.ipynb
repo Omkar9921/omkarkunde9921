{
 "cells": [
  {
   "cell_type": "code",
   "execution_count": 2,
   "id": "be4c44d8",
   "metadata": {},
   "outputs": [
    {
     "name": "stdout",
     "output_type": "stream",
     "text": [
      "23\n",
      "7\n",
      "\n",
      " 4\n",
      "\n",
      " 3\n",
      "9\n",
      "21\n",
      "16\n",
      "16\n"
     ]
    }
   ],
   "source": [
    "\n",
    "P = 23\n",
    "G = 7  \n",
    "print(P)\n",
    "print(G)\n",
    "\n",
    "\n",
    "#private keys\n",
    "\n",
    "a = 4 \n",
    "b = 3\n",
    "\n",
    "print(\"\\n\", a)\n",
    "print(\"\\n\",b)\n",
    "\n",
    "#genearted key\n",
    "\n",
    "x = int(pow(G,a,P))\n",
    "\n",
    "y = int(pow(G,b,P))\n",
    "\n",
    "print (x)\n",
    "\n",
    "print (y)\n",
    "\n",
    "#secret keys\n",
    "\n",
    "ka = int(pow(y,a,P))\n",
    "\n",
    "kb = int(pow(x,b,P))\n",
    "\n",
    "\n",
    "print(ka)\n",
    "\n",
    "print(kb)"
   ]
  },
  {
   "cell_type": "code",
   "execution_count": null,
   "id": "b0c157d2",
   "metadata": {},
   "outputs": [],
   "source": []
  }
 ],
 "metadata": {
  "kernelspec": {
   "display_name": "Python 3 (ipykernel)",
   "language": "python",
   "name": "python3"
  },
  "language_info": {
   "codemirror_mode": {
    "name": "ipython",
    "version": 3
   },
   "file_extension": ".py",
   "mimetype": "text/x-python",
   "name": "python",
   "nbconvert_exporter": "python",
   "pygments_lexer": "ipython3",
   "version": "3.8.5"
  }
 },
 "nbformat": 4,
 "nbformat_minor": 5
}
