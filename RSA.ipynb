{
 "cells": [
  {
   "cell_type": "code",
   "execution_count": 9,
   "id": "fe349bae",
   "metadata": {},
   "outputs": [
    {
     "name": "stdout",
     "output_type": "stream",
     "text": [
      "493\n",
      "448\n",
      "299\n",
      "cipher text 14\n",
      "plaintext 10\n"
     ]
    }
   ],
   "source": [
    "a=17\n",
    "b=29\n",
    "n=a*b\n",
    "print(n)\n",
    "r=(a-1)*(b-1)\n",
    "print(r)\n",
    "e=3\n",
    "d=(1/(e))%r\n",
    "for i in range(100):\n",
    "    if int(d)==d:\n",
    "        break\n",
    "    d=((r*i)+1)/e\n",
    "d=int(d)\n",
    "print(d)\n",
    "m=int('10')\n",
    "ci=int(pow(m,e,n))\n",
    "print('cipher text',ci)\n",
    "pi=int(pow(ci,d,n))\n",
    "print('plaintext',pi)"
   ]
  },
  {
   "cell_type": "code",
   "execution_count": null,
   "id": "08b989c7",
   "metadata": {},
   "outputs": [],
   "source": []
  }
 ],
 "metadata": {
  "kernelspec": {
   "display_name": "Python 3 (ipykernel)",
   "language": "python",
   "name": "python3"
  },
  "language_info": {
   "codemirror_mode": {
    "name": "ipython",
    "version": 3
   },
   "file_extension": ".py",
   "mimetype": "text/x-python",
   "name": "python",
   "nbconvert_exporter": "python",
   "pygments_lexer": "ipython3",
   "version": "3.8.5"
  }
 },
 "nbformat": 4,
 "nbformat_minor": 5
}
