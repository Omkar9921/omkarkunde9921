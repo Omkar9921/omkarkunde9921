{
 "cells": [
  {
   "cell_type": "code",
   "execution_count": 84,
   "id": "1d8bef55",
   "metadata": {},
   "outputs": [],
   "source": [
    "import pandas as pd\n",
    "from sklearn.tree import DecisionTreeClassifier\n"
   ]
  },
  {
   "cell_type": "code",
   "execution_count": 85,
   "id": "7083e227",
   "metadata": {},
   "outputs": [],
   "source": [
    "df = pd.read_csv(\"data.csv\")"
   ]
  },
  {
   "cell_type": "code",
   "execution_count": 86,
   "id": "921e9285",
   "metadata": {},
   "outputs": [],
   "source": [
    "clf = DecisionTreeClassifier()"
   ]
  },
  {
   "cell_type": "code",
   "execution_count": 87,
   "id": "b85f469b",
   "metadata": {},
   "outputs": [],
   "source": [
    "df.Income.replace([\"Low\",\"Med\",\"High\"],[0,1,2],inplace=True)\n",
    "df.Marital_status.replace([\"Single\",\"Married\"],[0,1],inplace=True)\n",
    "df.Gender.replace([\"M\",\"F\"],[0,1],inplace=True)\n",
    "df.Age.replace([\"<21\",\"21-35\",\">35\"],[0,1,2],inplace=True)\n",
    "df.Buys.replace([\"Y\",\"N\"],[0,1],inplace=True)"
   ]
  },
  {
   "cell_type": "code",
   "execution_count": 88,
   "id": "43002e41",
   "metadata": {},
   "outputs": [],
   "source": [
    "features = df[[\"Age\",\"Income\",\"Gender\",\"Marital_status\"]]\n"
   ]
  },
  {
   "cell_type": "code",
   "execution_count": 89,
   "id": "dee92120",
   "metadata": {},
   "outputs": [],
   "source": [
    "labels = df[[\"Buys\"]]"
   ]
  },
  {
   "cell_type": "code",
   "execution_count": 91,
   "id": "364e3fef",
   "metadata": {},
   "outputs": [
    {
     "data": {
      "text/plain": [
       "DecisionTreeClassifier()"
      ]
     },
     "execution_count": 91,
     "metadata": {},
     "output_type": "execute_result"
    }
   ],
   "source": [
    "clf.fit(features,labels)"
   ]
  },
  {
   "cell_type": "code",
   "execution_count": 92,
   "id": "78a50a9f",
   "metadata": {},
   "outputs": [
    {
     "name": "stderr",
     "output_type": "stream",
     "text": [
      "c:\\users\\omkar\\appdata\\local\\programs\\python\\python38\\lib\\site-packages\\sklearn\\base.py:441: UserWarning: X does not have valid feature names, but DecisionTreeClassifier was fitted with feature names\n",
      "  warnings.warn(\n"
     ]
    },
    {
     "data": {
      "text/plain": [
       "array([0], dtype=int64)"
      ]
     },
     "execution_count": 92,
     "metadata": {},
     "output_type": "execute_result"
    }
   ],
   "source": [
    "clf.predict([[0,0,1,1]])"
   ]
  },
  {
   "cell_type": "code",
   "execution_count": 93,
   "id": "b2e81fac",
   "metadata": {},
   "outputs": [],
   "source": [
    "y=clf.predict(features)"
   ]
  },
  {
   "cell_type": "code",
   "execution_count": 94,
   "id": "7bb89b91",
   "metadata": {},
   "outputs": [
    {
     "data": {
      "text/plain": [
       "array([1, 1, 0, 0, 0, 1, 0, 1, 0, 0, 0, 0, 0, 1], dtype=int64)"
      ]
     },
     "execution_count": 94,
     "metadata": {},
     "output_type": "execute_result"
    }
   ],
   "source": [
    "y"
   ]
  },
  {
   "cell_type": "code",
   "execution_count": 95,
   "id": "9fdebfc7",
   "metadata": {},
   "outputs": [
    {
     "data": {
      "text/plain": [
       "[Text(148.8, 195.696, 'X[2] <= 0.5\\ngini = 0.459\\nsamples = 14\\nvalue = [9, 5]'),\n",
       " Text(74.4, 152.208, 'X[0] <= 0.5\\ngini = 0.49\\nsamples = 7\\nvalue = [3, 4]'),\n",
       " Text(37.2, 108.72, 'gini = 0.0\\nsamples = 3\\nvalue = [0, 3]'),\n",
       " Text(111.60000000000001, 108.72, 'X[0] <= 1.5\\ngini = 0.375\\nsamples = 4\\nvalue = [3, 1]'),\n",
       " Text(74.4, 65.232, 'gini = 0.0\\nsamples = 2\\nvalue = [2, 0]'),\n",
       " Text(148.8, 65.232, 'X[3] <= 0.5\\ngini = 0.5\\nsamples = 2\\nvalue = [1, 1]'),\n",
       " Text(111.60000000000001, 21.744, 'gini = 0.0\\nsamples = 1\\nvalue = [1, 0]'),\n",
       " Text(186.0, 21.744, 'gini = 0.0\\nsamples = 1\\nvalue = [0, 1]'),\n",
       " Text(223.20000000000002, 152.208, 'X[0] <= 1.5\\ngini = 0.245\\nsamples = 7\\nvalue = [6, 1]'),\n",
       " Text(186.0, 108.72, 'gini = 0.0\\nsamples = 4\\nvalue = [4, 0]'),\n",
       " Text(260.40000000000003, 108.72, 'X[3] <= 0.5\\ngini = 0.444\\nsamples = 3\\nvalue = [2, 1]'),\n",
       " Text(223.20000000000002, 65.232, 'gini = 0.0\\nsamples = 2\\nvalue = [2, 0]'),\n",
       " Text(297.6, 65.232, 'gini = 0.0\\nsamples = 1\\nvalue = [0, 1]')]"
      ]
     },
     "execution_count": 95,
     "metadata": {},
     "output_type": "execute_result"
    },
    {
     "data": {
      "image/png": "[encoded data removed]",
      "text/plain": [
       "<Figure size 432x288 with 1 Axes>"
      ]
     },
     "metadata": {
      "needs_background": "light"
     },
     "output_type": "display_data"
    }
   ],
   "source": [
    "tree.plot_tree(clf)"
   ]
  },
  {
   "cell_type": "code",
   "execution_count": null,
   "id": "678ed87c",
   "metadata": {},
   "outputs": [],
   "source": []
  }
 ],
 "metadata": {
  "kernelspec": {
   "display_name": "Python 3 (ipykernel)",
   "language": "python",
   "name": "python3"
  },
  "language_info": {
   "codemirror_mode": {
    "name": "ipython",
    "version": 3
   },
   "file_extension": ".py",
   "mimetype": "text/x-python",
   "name": "python",
   "nbconvert_exporter": "python",
   "pygments_lexer": "ipython3",
   "version": "3.8.5"
  }
 },
 "nbformat": 4,
 "nbformat_minor": 5
}
