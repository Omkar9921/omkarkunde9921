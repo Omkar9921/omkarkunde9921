{
 "cells": [
  {
   "cell_type": "code",
   "execution_count": 10,
   "id": "d106a9a3",
   "metadata": {},
   "outputs": [
    {
     "name": "stdout",
     "output_type": "stream",
     "text": [
      "['Orange']\n"
     ]
    }
   ],
   "source": [
    "import numpy as np\n",
    "import pandas as pd\n",
    "from sklearn.neighbors import KNeighborsClassifier\n",
    "\n",
    "\n",
    "x = [[2, 4], [4, 4], [4, 6], [4, 2], [6, 2], [6, 4], [8, 2]]\n",
    "y = [\"Orange\", \"Blue\", \"Orange\", \"Orange\", \"Blue\", \"Orange\", \"Blue\"]\n",
    "\n",
    " \n",
    "classifier = KNeighborsClassifier(n_neighbors=3)  #n_neighbors indicates 'K'\n",
    "\n",
    "# train the algorithm\n",
    "classifier.fit(x,y)\n",
    "\n",
    "# predict class for points (6,6) \n",
    "x_test = np.array([4,4]) \n",
    "y_pred = classifier.predict([x_test]) \n",
    "print(y_pred)\n"
   ]
  },
  {
   "cell_type": "code",
   "execution_count": null,
   "id": "4460bf29",
   "metadata": {},
   "outputs": [],
   "source": []
  }
 ],
 "metadata": {
  "kernelspec": {
   "display_name": "Python 3 (ipykernel)",
   "language": "python",
   "name": "python3"
  },
  "language_info": {
   "codemirror_mode": {
    "name": "ipython",
    "version": 3
   },
   "file_extension": ".py",
   "mimetype": "text/x-python",
   "name": "python",
   "nbconvert_exporter": "python",
   "pygments_lexer": "ipython3",
   "version": "3.8.5"
  }
 },
 "nbformat": 4,
 "nbformat_minor": 5
}
