{
 "cells": [
  {
   "cell_type": "code",
   "execution_count": 1,
   "id": "e7f82ded",
   "metadata": {},
   "outputs": [
    {
     "name": "stdout",
     "output_type": "stream",
     "text": [
      "Collecting pycryptodome\n",
      "  Downloading pycryptodome-3.14.1-cp35-abi3-win_amd64.whl (1.8 MB)\n",
      "     ---------------------------------------- 1.8/1.8 MB 1.4 MB/s eta 0:00:00\n",
      "Installing collected packages: pycryptodome\n",
      "Successfully installed pycryptodome-3.14.1\n",
      "Collecting pycryptodome-test-vectors\n",
      "  Downloading pycryptodome-test-vectors-1.0.8.zip (12.1 MB)\n",
      "     -------------------------------------- 12.1/12.1 MB 782.8 kB/s eta 0:00:00\n",
      "  Preparing metadata (setup.py): started\n",
      "  Preparing metadata (setup.py): finished with status 'done'\n",
      "Building wheels for collected packages: pycryptodome-test-vectors\n",
      "  Building wheel for pycryptodome-test-vectors (setup.py): started\n",
      "  Building wheel for pycryptodome-test-vectors (setup.py): finished with status 'done'\n",
      "  Created wheel for pycryptodome-test-vectors: filename=pycryptodome_test_vectors-1.0.8-py2.py3-none-any.whl size=12120768 sha256=236b05bfeee1544553d7c1f685213b3e6fe06c3ca5e2ba8e4a51ca0ce712b782\n",
      "  Stored in directory: c:\\users\\omkar\\appdata\\local\\pip\\cache\\wheels\\5d\\81\\2d\\8997d6301e5ba91bf1b8abab05079e25f7004d76ca768e1c95\n",
      "Successfully built pycryptodome-test-vectors\n",
      "Installing collected packages: pycryptodome-test-vectors\n",
      "Successfully installed pycryptodome-test-vectors-1.0.8\n"
     ]
    }
   ],
   "source": [
    "!pip install pycryptodome\n",
    "!pip install pycryptodome-test-vectors\n"
   ]
  },
  {
   "cell_type": "code",
   "execution_count": 13,
   "id": "ed252b2a",
   "metadata": {},
   "outputs": [],
   "source": [
    "from Crypto.Cipher import DES\n",
    "from secrets import token_bytes"
   ]
  },
  {
   "cell_type": "code",
   "execution_count": 14,
   "id": "f85a9b0a",
   "metadata": {},
   "outputs": [],
   "source": [
    "key = token_bytes(8)"
   ]
  },
  {
   "cell_type": "code",
   "execution_count": 23,
   "id": "ed43601f",
   "metadata": {},
   "outputs": [],
   "source": [
    "def encrypt(msg):\n",
    "    cipher = DES.new(key ,DES.MODE_EAX)\n",
    "    nonce = cipher.nonce\n",
    "    ciphertext , tag = cipher.encrypt_and_digest(msg.encode('ascii'))\n",
    "    return  nonce,ciphertext,tag  "
   ]
  },
  {
   "cell_type": "code",
   "execution_count": 29,
   "id": "d1f3aec9",
   "metadata": {},
   "outputs": [],
   "source": [
    "def decrypt(nonce , ciphertext , tag ):\n",
    "    cipher = DES.new(key ,DES.MODE_EAX , nonce=nonce)\n",
    "    plaintext = cipher.decrypt(ciphertext)\n",
    "    try :\n",
    "        cipher.verify(tag)\n",
    "        return plaintext.decode('ascii')\n",
    "    except :\n",
    "        return False "
   ]
  },
  {
   "cell_type": "code",
   "execution_count": 31,
   "id": "83f5352a",
   "metadata": {},
   "outputs": [
    {
     "name": "stdout",
     "output_type": "stream",
     "text": [
      "Enter the text=\n",
      "ciphertext= b''\n",
      "u r text is corrupted\n"
     ]
    }
   ],
   "source": [
    "nonce , ciphertext , tag = encrypt(input(\"Enter the text=\"))\n",
    "plaintext=decrypt(nonce , ciphertext , tag)\n",
    "print(\"ciphertext=\",ciphertext)\n",
    "if not plaintext:\n",
    "    print(\"u r text is corrupted\")\n",
    "else :\n",
    "    print(\"plaintext=\",plaintext)"
   ]
  }
 ],
 "metadata": {
  "kernelspec": {
   "display_name": "Python 3 (ipykernel)",
   "language": "python",
   "name": "python3"
  },
  "language_info": {
   "codemirror_mode": {
    "name": "ipython",
    "version": 3
   },
   "file_extension": ".py",
   "mimetype": "text/x-python",
   "name": "python",
   "nbconvert_exporter": "python",
   "pygments_lexer": "ipython3",
   "version": "3.8.5"
  }
 },
 "nbformat": 4,
 "nbformat_minor": 5
}
